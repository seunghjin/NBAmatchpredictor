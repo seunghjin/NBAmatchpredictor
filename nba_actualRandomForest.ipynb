{
 "cells": [
  {
   "cell_type": "markdown",
   "id": "726f6bd8-7d7e-46bf-a289-4f6db98d795e",
   "metadata": {},
   "source": [
    "## Getting Data Ready"
   ]
  },
  {
   "cell_type": "code",
   "execution_count": 3,
   "id": "ffbcc1fa-bc80-4412-bbda-9e4ceec8f57d",
   "metadata": {
    "tags": []
   },
   "outputs": [
    {
     "name": "stdout",
     "output_type": "stream",
     "text": [
      "Defaulting to user installation because normal site-packages is not writeable\n",
      "Collecting pandas\n",
      "  Obtaining dependency information for pandas from https://files.pythonhosted.org/packages/cd/5f/4dba1d39bb9c38d574a9a22548c540177f78ea47b32f99c0ff2ec499fac5/pandas-2.2.3-cp311-cp311-manylinux_2_17_x86_64.manylinux2014_x86_64.whl.metadata\n",
      "  Downloading pandas-2.2.3-cp311-cp311-manylinux_2_17_x86_64.manylinux2014_x86_64.whl.metadata (89 kB)\n",
      "\u001b[2K     \u001b[90m━━━━━━━━━━━━━━━━━━━━━━━━━━━━━━━━━━━━━━━━\u001b[0m \u001b[32m89.9/89.9 kB\u001b[0m \u001b[31m3.4 MB/s\u001b[0m eta \u001b[36m0:00:00\u001b[0m\n",
      "\u001b[?25hRequirement already satisfied: numpy>=1.23.2 in /usr/pkg/miniconda-23.9.0/lib/python3.11/site-packages (from pandas) (1.23.5)\n",
      "Requirement already satisfied: python-dateutil>=2.8.2 in /usr/pkg/miniconda-23.9.0/lib/python3.11/site-packages (from pandas) (2.8.2)\n",
      "Requirement already satisfied: pytz>=2020.1 in /usr/pkg/miniconda-23.9.0/lib/python3.11/site-packages (from pandas) (2023.3.post1)\n",
      "Collecting tzdata>=2022.7 (from pandas)\n",
      "  Obtaining dependency information for tzdata>=2022.7 from https://files.pythonhosted.org/packages/a6/ab/7e5f53c3b9d14972843a647d8d7a853969a58aecc7559cb3267302c94774/tzdata-2024.2-py2.py3-none-any.whl.metadata\n",
      "  Downloading tzdata-2024.2-py2.py3-none-any.whl.metadata (1.4 kB)\n",
      "Requirement already satisfied: six>=1.5 in /usr/pkg/miniconda-23.9.0/lib/python3.11/site-packages (from python-dateutil>=2.8.2->pandas) (1.16.0)\n",
      "Downloading pandas-2.2.3-cp311-cp311-manylinux_2_17_x86_64.manylinux2014_x86_64.whl (13.1 MB)\n",
      "\u001b[2K   \u001b[90m━━━━━━━━━━━━━━━━━━━━━━━━━━━━━━━━━━━━━━━━\u001b[0m \u001b[32m13.1/13.1 MB\u001b[0m \u001b[31m40.0 MB/s\u001b[0m eta \u001b[36m0:00:00\u001b[0m00:01\u001b[0m00:01\u001b[0m\n",
      "\u001b[?25hDownloading tzdata-2024.2-py2.py3-none-any.whl (346 kB)\n",
      "\u001b[2K   \u001b[90m━━━━━━━━━━━━━━━━━━━━━━━━━━━━━━━━━━━━━━━━\u001b[0m \u001b[32m346.6/346.6 kB\u001b[0m \u001b[31m30.7 MB/s\u001b[0m eta \u001b[36m0:00:00\u001b[0m\n",
      "\u001b[?25hInstalling collected packages: tzdata, pandas\n",
      "Successfully installed pandas-2.2.3 tzdata-2024.2\n",
      "Note: you may need to restart the kernel to use updated packages.\n"
     ]
    }
   ],
   "source": [
    "%pip install pandas"
   ]
  },
  {
   "cell_type": "code",
   "execution_count": 83,
   "id": "31dd6ffd-540e-4cd9-9b11-d675078168e4",
   "metadata": {
    "tags": []
   },
   "outputs": [],
   "source": [
    "import pandas as pd\n",
    "df = pd.read_csv(\"nba_games.csv\", index_col = 0)"
   ]
  },
  {
   "cell_type": "code",
   "execution_count": 84,
   "id": "6469cf85-acc5-45cd-925d-7d1a676fad75",
   "metadata": {
    "tags": []
   },
   "outputs": [],
   "source": [
    "df = df.sort_values(\"date\")"
   ]
  },
  {
   "cell_type": "code",
   "execution_count": 85,
   "id": "f7ef9288-03fb-4607-8da1-47c3f73c6eed",
   "metadata": {
    "tags": []
   },
   "outputs": [],
   "source": [
    "df = df.reset_index(drop = True)"
   ]
  },
  {
   "cell_type": "code",
   "execution_count": 86,
   "id": "1e241322-653b-4fc3-8d35-f0a27d603349",
   "metadata": {
    "tags": []
   },
   "outputs": [],
   "source": [
    "del df[\"mp.1\"]\n",
    "del df[\"mp_opp.1\"]\n",
    "del df[\"index_opp\"]"
   ]
  },
  {
   "cell_type": "code",
   "execution_count": 87,
   "id": "8acf4598-fec7-4ecf-ac54-6f17b6c25a62",
   "metadata": {
    "tags": []
   },
   "outputs": [
    {
     "name": "stderr",
     "output_type": "stream",
     "text": [
      "/tmp/ipykernel_568649/3522436527.py:2: PerformanceWarning: DataFrame is highly fragmented.  This is usually the result of calling `frame.insert` many times, which has poor performance.  Consider joining all columns at once using pd.concat(axis=1) instead. To get a de-fragmented frame, use `newframe = frame.copy()`\n",
      "  team[\"target\"] = team[\"won\"].shift(-1)\n",
      "/tmp/ipykernel_568649/3522436527.py:2: PerformanceWarning: DataFrame is highly fragmented.  This is usually the result of calling `frame.insert` many times, which has poor performance.  Consider joining all columns at once using pd.concat(axis=1) instead. To get a de-fragmented frame, use `newframe = frame.copy()`\n",
      "  team[\"target\"] = team[\"won\"].shift(-1)\n",
      "/tmp/ipykernel_568649/3522436527.py:2: PerformanceWarning: DataFrame is highly fragmented.  This is usually the result of calling `frame.insert` many times, which has poor performance.  Consider joining all columns at once using pd.concat(axis=1) instead. To get a de-fragmented frame, use `newframe = frame.copy()`\n",
      "  team[\"target\"] = team[\"won\"].shift(-1)\n",
      "/tmp/ipykernel_568649/3522436527.py:2: PerformanceWarning: DataFrame is highly fragmented.  This is usually the result of calling `frame.insert` many times, which has poor performance.  Consider joining all columns at once using pd.concat(axis=1) instead. To get a de-fragmented frame, use `newframe = frame.copy()`\n",
      "  team[\"target\"] = team[\"won\"].shift(-1)\n",
      "/tmp/ipykernel_568649/3522436527.py:2: PerformanceWarning: DataFrame is highly fragmented.  This is usually the result of calling `frame.insert` many times, which has poor performance.  Consider joining all columns at once using pd.concat(axis=1) instead. To get a de-fragmented frame, use `newframe = frame.copy()`\n",
      "  team[\"target\"] = team[\"won\"].shift(-1)\n",
      "/tmp/ipykernel_568649/3522436527.py:2: PerformanceWarning: DataFrame is highly fragmented.  This is usually the result of calling `frame.insert` many times, which has poor performance.  Consider joining all columns at once using pd.concat(axis=1) instead. To get a de-fragmented frame, use `newframe = frame.copy()`\n",
      "  team[\"target\"] = team[\"won\"].shift(-1)\n",
      "/tmp/ipykernel_568649/3522436527.py:2: PerformanceWarning: DataFrame is highly fragmented.  This is usually the result of calling `frame.insert` many times, which has poor performance.  Consider joining all columns at once using pd.concat(axis=1) instead. To get a de-fragmented frame, use `newframe = frame.copy()`\n",
      "  team[\"target\"] = team[\"won\"].shift(-1)\n",
      "/tmp/ipykernel_568649/3522436527.py:2: PerformanceWarning: DataFrame is highly fragmented.  This is usually the result of calling `frame.insert` many times, which has poor performance.  Consider joining all columns at once using pd.concat(axis=1) instead. To get a de-fragmented frame, use `newframe = frame.copy()`\n",
      "  team[\"target\"] = team[\"won\"].shift(-1)\n",
      "/tmp/ipykernel_568649/3522436527.py:2: PerformanceWarning: DataFrame is highly fragmented.  This is usually the result of calling `frame.insert` many times, which has poor performance.  Consider joining all columns at once using pd.concat(axis=1) instead. To get a de-fragmented frame, use `newframe = frame.copy()`\n",
      "  team[\"target\"] = team[\"won\"].shift(-1)\n",
      "/tmp/ipykernel_568649/3522436527.py:2: PerformanceWarning: DataFrame is highly fragmented.  This is usually the result of calling `frame.insert` many times, which has poor performance.  Consider joining all columns at once using pd.concat(axis=1) instead. To get a de-fragmented frame, use `newframe = frame.copy()`\n",
      "  team[\"target\"] = team[\"won\"].shift(-1)\n",
      "/tmp/ipykernel_568649/3522436527.py:2: PerformanceWarning: DataFrame is highly fragmented.  This is usually the result of calling `frame.insert` many times, which has poor performance.  Consider joining all columns at once using pd.concat(axis=1) instead. To get a de-fragmented frame, use `newframe = frame.copy()`\n",
      "  team[\"target\"] = team[\"won\"].shift(-1)\n",
      "/tmp/ipykernel_568649/3522436527.py:2: PerformanceWarning: DataFrame is highly fragmented.  This is usually the result of calling `frame.insert` many times, which has poor performance.  Consider joining all columns at once using pd.concat(axis=1) instead. To get a de-fragmented frame, use `newframe = frame.copy()`\n",
      "  team[\"target\"] = team[\"won\"].shift(-1)\n",
      "/tmp/ipykernel_568649/3522436527.py:2: PerformanceWarning: DataFrame is highly fragmented.  This is usually the result of calling `frame.insert` many times, which has poor performance.  Consider joining all columns at once using pd.concat(axis=1) instead. To get a de-fragmented frame, use `newframe = frame.copy()`\n",
      "  team[\"target\"] = team[\"won\"].shift(-1)\n",
      "/tmp/ipykernel_568649/3522436527.py:2: PerformanceWarning: DataFrame is highly fragmented.  This is usually the result of calling `frame.insert` many times, which has poor performance.  Consider joining all columns at once using pd.concat(axis=1) instead. To get a de-fragmented frame, use `newframe = frame.copy()`\n",
      "  team[\"target\"] = team[\"won\"].shift(-1)\n",
      "/tmp/ipykernel_568649/3522436527.py:2: PerformanceWarning: DataFrame is highly fragmented.  This is usually the result of calling `frame.insert` many times, which has poor performance.  Consider joining all columns at once using pd.concat(axis=1) instead. To get a de-fragmented frame, use `newframe = frame.copy()`\n",
      "  team[\"target\"] = team[\"won\"].shift(-1)\n",
      "/tmp/ipykernel_568649/3522436527.py:2: PerformanceWarning: DataFrame is highly fragmented.  This is usually the result of calling `frame.insert` many times, which has poor performance.  Consider joining all columns at once using pd.concat(axis=1) instead. To get a de-fragmented frame, use `newframe = frame.copy()`\n",
      "  team[\"target\"] = team[\"won\"].shift(-1)\n",
      "/tmp/ipykernel_568649/3522436527.py:2: PerformanceWarning: DataFrame is highly fragmented.  This is usually the result of calling `frame.insert` many times, which has poor performance.  Consider joining all columns at once using pd.concat(axis=1) instead. To get a de-fragmented frame, use `newframe = frame.copy()`\n",
      "  team[\"target\"] = team[\"won\"].shift(-1)\n",
      "/tmp/ipykernel_568649/3522436527.py:2: PerformanceWarning: DataFrame is highly fragmented.  This is usually the result of calling `frame.insert` many times, which has poor performance.  Consider joining all columns at once using pd.concat(axis=1) instead. To get a de-fragmented frame, use `newframe = frame.copy()`\n",
      "  team[\"target\"] = team[\"won\"].shift(-1)\n",
      "/tmp/ipykernel_568649/3522436527.py:2: PerformanceWarning: DataFrame is highly fragmented.  This is usually the result of calling `frame.insert` many times, which has poor performance.  Consider joining all columns at once using pd.concat(axis=1) instead. To get a de-fragmented frame, use `newframe = frame.copy()`\n",
      "  team[\"target\"] = team[\"won\"].shift(-1)\n",
      "/tmp/ipykernel_568649/3522436527.py:2: PerformanceWarning: DataFrame is highly fragmented.  This is usually the result of calling `frame.insert` many times, which has poor performance.  Consider joining all columns at once using pd.concat(axis=1) instead. To get a de-fragmented frame, use `newframe = frame.copy()`\n",
      "  team[\"target\"] = team[\"won\"].shift(-1)\n",
      "/tmp/ipykernel_568649/3522436527.py:2: PerformanceWarning: DataFrame is highly fragmented.  This is usually the result of calling `frame.insert` many times, which has poor performance.  Consider joining all columns at once using pd.concat(axis=1) instead. To get a de-fragmented frame, use `newframe = frame.copy()`\n",
      "  team[\"target\"] = team[\"won\"].shift(-1)\n",
      "/tmp/ipykernel_568649/3522436527.py:2: PerformanceWarning: DataFrame is highly fragmented.  This is usually the result of calling `frame.insert` many times, which has poor performance.  Consider joining all columns at once using pd.concat(axis=1) instead. To get a de-fragmented frame, use `newframe = frame.copy()`\n",
      "  team[\"target\"] = team[\"won\"].shift(-1)\n",
      "/tmp/ipykernel_568649/3522436527.py:2: PerformanceWarning: DataFrame is highly fragmented.  This is usually the result of calling `frame.insert` many times, which has poor performance.  Consider joining all columns at once using pd.concat(axis=1) instead. To get a de-fragmented frame, use `newframe = frame.copy()`\n",
      "  team[\"target\"] = team[\"won\"].shift(-1)\n",
      "/tmp/ipykernel_568649/3522436527.py:2: PerformanceWarning: DataFrame is highly fragmented.  This is usually the result of calling `frame.insert` many times, which has poor performance.  Consider joining all columns at once using pd.concat(axis=1) instead. To get a de-fragmented frame, use `newframe = frame.copy()`\n",
      "  team[\"target\"] = team[\"won\"].shift(-1)\n",
      "/tmp/ipykernel_568649/3522436527.py:2: PerformanceWarning: DataFrame is highly fragmented.  This is usually the result of calling `frame.insert` many times, which has poor performance.  Consider joining all columns at once using pd.concat(axis=1) instead. To get a de-fragmented frame, use `newframe = frame.copy()`\n",
      "  team[\"target\"] = team[\"won\"].shift(-1)\n",
      "/tmp/ipykernel_568649/3522436527.py:2: PerformanceWarning: DataFrame is highly fragmented.  This is usually the result of calling `frame.insert` many times, which has poor performance.  Consider joining all columns at once using pd.concat(axis=1) instead. To get a de-fragmented frame, use `newframe = frame.copy()`\n",
      "  team[\"target\"] = team[\"won\"].shift(-1)\n",
      "/tmp/ipykernel_568649/3522436527.py:2: PerformanceWarning: DataFrame is highly fragmented.  This is usually the result of calling `frame.insert` many times, which has poor performance.  Consider joining all columns at once using pd.concat(axis=1) instead. To get a de-fragmented frame, use `newframe = frame.copy()`\n",
      "  team[\"target\"] = team[\"won\"].shift(-1)\n",
      "/tmp/ipykernel_568649/3522436527.py:2: PerformanceWarning: DataFrame is highly fragmented.  This is usually the result of calling `frame.insert` many times, which has poor performance.  Consider joining all columns at once using pd.concat(axis=1) instead. To get a de-fragmented frame, use `newframe = frame.copy()`\n",
      "  team[\"target\"] = team[\"won\"].shift(-1)\n",
      "/tmp/ipykernel_568649/3522436527.py:2: PerformanceWarning: DataFrame is highly fragmented.  This is usually the result of calling `frame.insert` many times, which has poor performance.  Consider joining all columns at once using pd.concat(axis=1) instead. To get a de-fragmented frame, use `newframe = frame.copy()`\n",
      "  team[\"target\"] = team[\"won\"].shift(-1)\n",
      "/tmp/ipykernel_568649/3522436527.py:2: PerformanceWarning: DataFrame is highly fragmented.  This is usually the result of calling `frame.insert` many times, which has poor performance.  Consider joining all columns at once using pd.concat(axis=1) instead. To get a de-fragmented frame, use `newframe = frame.copy()`\n",
      "  team[\"target\"] = team[\"won\"].shift(-1)\n",
      "/tmp/ipykernel_568649/3522436527.py:5: DeprecationWarning: DataFrameGroupBy.apply operated on the grouping columns. This behavior is deprecated, and in a future version of pandas the grouping columns will be excluded from the operation. Either pass `include_groups=False` to exclude the groupings or explicitly select the grouping columns after groupby to silence this warning.\n",
      "  df = df.groupby(\"team\", group_keys = False).apply(add_target)\n"
     ]
    }
   ],
   "source": [
    "def add_target(team):\n",
    "    team[\"target\"] = team[\"won\"].shift(-1)\n",
    "    return team\n",
    "\n",
    "df = df.groupby(\"team\", group_keys = False).apply(add_target)"
   ]
  },
  {
   "cell_type": "code",
   "execution_count": 88,
   "id": "3f2c1cbb-00da-4950-ba6c-2d520f88238f",
   "metadata": {
    "tags": []
   },
   "outputs": [
    {
     "data": {
      "text/html": [
       "<div>\n",
       "<style scoped>\n",
       "    .dataframe tbody tr th:only-of-type {\n",
       "        vertical-align: middle;\n",
       "    }\n",
       "\n",
       "    .dataframe tbody tr th {\n",
       "        vertical-align: top;\n",
       "    }\n",
       "\n",
       "    .dataframe thead th {\n",
       "        text-align: right;\n",
       "    }\n",
       "</style>\n",
       "<table border=\"1\" class=\"dataframe\">\n",
       "  <thead>\n",
       "    <tr style=\"text-align: right;\">\n",
       "      <th></th>\n",
       "      <th>mp</th>\n",
       "      <th>fg</th>\n",
       "      <th>fga</th>\n",
       "      <th>fg%</th>\n",
       "      <th>3p</th>\n",
       "      <th>3pa</th>\n",
       "      <th>3p%</th>\n",
       "      <th>ft</th>\n",
       "      <th>fta</th>\n",
       "      <th>ft%</th>\n",
       "      <th>...</th>\n",
       "      <th>usg%_max_opp</th>\n",
       "      <th>ortg_max_opp</th>\n",
       "      <th>drtg_max_opp</th>\n",
       "      <th>team_opp</th>\n",
       "      <th>total_opp</th>\n",
       "      <th>home_opp</th>\n",
       "      <th>season</th>\n",
       "      <th>date</th>\n",
       "      <th>won</th>\n",
       "      <th>target</th>\n",
       "    </tr>\n",
       "  </thead>\n",
       "  <tbody>\n",
       "    <tr>\n",
       "      <th>11</th>\n",
       "      <td>240.0</td>\n",
       "      <td>33.0</td>\n",
       "      <td>84.0</td>\n",
       "      <td>0.393</td>\n",
       "      <td>7.0</td>\n",
       "      <td>28.0</td>\n",
       "      <td>0.250</td>\n",
       "      <td>15.0</td>\n",
       "      <td>25.0</td>\n",
       "      <td>0.600</td>\n",
       "      <td>...</td>\n",
       "      <td>25.2</td>\n",
       "      <td>134.0</td>\n",
       "      <td>98.0</td>\n",
       "      <td>ORL</td>\n",
       "      <td>87</td>\n",
       "      <td>1</td>\n",
       "      <td>2016</td>\n",
       "      <td>2015-10-28</td>\n",
       "      <td>True</td>\n",
       "      <td>True</td>\n",
       "    </tr>\n",
       "    <tr>\n",
       "      <th>63</th>\n",
       "      <td>240.0</td>\n",
       "      <td>35.0</td>\n",
       "      <td>68.0</td>\n",
       "      <td>0.515</td>\n",
       "      <td>12.0</td>\n",
       "      <td>21.0</td>\n",
       "      <td>0.571</td>\n",
       "      <td>36.0</td>\n",
       "      <td>44.0</td>\n",
       "      <td>0.818</td>\n",
       "      <td>...</td>\n",
       "      <td>32.4</td>\n",
       "      <td>138.0</td>\n",
       "      <td>122.0</td>\n",
       "      <td>MIL</td>\n",
       "      <td>113</td>\n",
       "      <td>1</td>\n",
       "      <td>2016</td>\n",
       "      <td>2015-10-30</td>\n",
       "      <td>True</td>\n",
       "      <td>False</td>\n",
       "    </tr>\n",
       "    <tr>\n",
       "      <th>69</th>\n",
       "      <td>240.0</td>\n",
       "      <td>38.0</td>\n",
       "      <td>90.0</td>\n",
       "      <td>0.422</td>\n",
       "      <td>6.0</td>\n",
       "      <td>22.0</td>\n",
       "      <td>0.273</td>\n",
       "      <td>28.0</td>\n",
       "      <td>33.0</td>\n",
       "      <td>0.848</td>\n",
       "      <td>...</td>\n",
       "      <td>28.7</td>\n",
       "      <td>153.0</td>\n",
       "      <td>108.0</td>\n",
       "      <td>NYK</td>\n",
       "      <td>117</td>\n",
       "      <td>0</td>\n",
       "      <td>2016</td>\n",
       "      <td>2015-10-31</td>\n",
       "      <td>False</td>\n",
       "      <td>True</td>\n",
       "    </tr>\n",
       "    <tr>\n",
       "      <th>124</th>\n",
       "      <td>240.0</td>\n",
       "      <td>42.0</td>\n",
       "      <td>87.0</td>\n",
       "      <td>0.483</td>\n",
       "      <td>8.0</td>\n",
       "      <td>23.0</td>\n",
       "      <td>0.348</td>\n",
       "      <td>10.0</td>\n",
       "      <td>14.0</td>\n",
       "      <td>0.714</td>\n",
       "      <td>...</td>\n",
       "      <td>30.0</td>\n",
       "      <td>160.0</td>\n",
       "      <td>109.0</td>\n",
       "      <td>SAS</td>\n",
       "      <td>99</td>\n",
       "      <td>0</td>\n",
       "      <td>2016</td>\n",
       "      <td>2015-11-04</td>\n",
       "      <td>True</td>\n",
       "      <td>False</td>\n",
       "    </tr>\n",
       "    <tr>\n",
       "      <th>161</th>\n",
       "      <td>240.0</td>\n",
       "      <td>36.0</td>\n",
       "      <td>88.0</td>\n",
       "      <td>0.409</td>\n",
       "      <td>8.0</td>\n",
       "      <td>25.0</td>\n",
       "      <td>0.320</td>\n",
       "      <td>18.0</td>\n",
       "      <td>23.0</td>\n",
       "      <td>0.783</td>\n",
       "      <td>...</td>\n",
       "      <td>41.6</td>\n",
       "      <td>146.0</td>\n",
       "      <td>103.0</td>\n",
       "      <td>BOS</td>\n",
       "      <td>118</td>\n",
       "      <td>1</td>\n",
       "      <td>2016</td>\n",
       "      <td>2015-11-06</td>\n",
       "      <td>False</td>\n",
       "      <td>False</td>\n",
       "    </tr>\n",
       "    <tr>\n",
       "      <th>...</th>\n",
       "      <td>...</td>\n",
       "      <td>...</td>\n",
       "      <td>...</td>\n",
       "      <td>...</td>\n",
       "      <td>...</td>\n",
       "      <td>...</td>\n",
       "      <td>...</td>\n",
       "      <td>...</td>\n",
       "      <td>...</td>\n",
       "      <td>...</td>\n",
       "      <td>...</td>\n",
       "      <td>...</td>\n",
       "      <td>...</td>\n",
       "      <td>...</td>\n",
       "      <td>...</td>\n",
       "      <td>...</td>\n",
       "      <td>...</td>\n",
       "      <td>...</td>\n",
       "      <td>...</td>\n",
       "      <td>...</td>\n",
       "      <td>...</td>\n",
       "    </tr>\n",
       "    <tr>\n",
       "      <th>17471</th>\n",
       "      <td>240.0</td>\n",
       "      <td>38.0</td>\n",
       "      <td>82.0</td>\n",
       "      <td>0.463</td>\n",
       "      <td>8.0</td>\n",
       "      <td>21.0</td>\n",
       "      <td>0.381</td>\n",
       "      <td>18.0</td>\n",
       "      <td>20.0</td>\n",
       "      <td>0.900</td>\n",
       "      <td>...</td>\n",
       "      <td>34.4</td>\n",
       "      <td>245.0</td>\n",
       "      <td>116.0</td>\n",
       "      <td>BOS</td>\n",
       "      <td>144</td>\n",
       "      <td>1</td>\n",
       "      <td>2022</td>\n",
       "      <td>2022-04-03</td>\n",
       "      <td>False</td>\n",
       "      <td>True</td>\n",
       "    </tr>\n",
       "    <tr>\n",
       "      <th>17483</th>\n",
       "      <td>240.0</td>\n",
       "      <td>56.0</td>\n",
       "      <td>101.0</td>\n",
       "      <td>0.554</td>\n",
       "      <td>13.0</td>\n",
       "      <td>30.0</td>\n",
       "      <td>0.433</td>\n",
       "      <td>7.0</td>\n",
       "      <td>14.0</td>\n",
       "      <td>0.500</td>\n",
       "      <td>...</td>\n",
       "      <td>32.8</td>\n",
       "      <td>168.0</td>\n",
       "      <td>132.0</td>\n",
       "      <td>MIN</td>\n",
       "      <td>114</td>\n",
       "      <td>1</td>\n",
       "      <td>2022</td>\n",
       "      <td>2022-04-05</td>\n",
       "      <td>True</td>\n",
       "      <td>False</td>\n",
       "    </tr>\n",
       "    <tr>\n",
       "      <th>17510</th>\n",
       "      <td>240.0</td>\n",
       "      <td>42.0</td>\n",
       "      <td>86.0</td>\n",
       "      <td>0.488</td>\n",
       "      <td>10.0</td>\n",
       "      <td>35.0</td>\n",
       "      <td>0.286</td>\n",
       "      <td>9.0</td>\n",
       "      <td>11.0</td>\n",
       "      <td>0.818</td>\n",
       "      <td>...</td>\n",
       "      <td>60.2</td>\n",
       "      <td>159.0</td>\n",
       "      <td>114.0</td>\n",
       "      <td>ATL</td>\n",
       "      <td>118</td>\n",
       "      <td>1</td>\n",
       "      <td>2022</td>\n",
       "      <td>2022-04-06</td>\n",
       "      <td>False</td>\n",
       "      <td>False</td>\n",
       "    </tr>\n",
       "    <tr>\n",
       "      <th>17538</th>\n",
       "      <td>240.0</td>\n",
       "      <td>35.0</td>\n",
       "      <td>69.0</td>\n",
       "      <td>0.507</td>\n",
       "      <td>9.0</td>\n",
       "      <td>28.0</td>\n",
       "      <td>0.321</td>\n",
       "      <td>13.0</td>\n",
       "      <td>17.0</td>\n",
       "      <td>0.765</td>\n",
       "      <td>...</td>\n",
       "      <td>35.5</td>\n",
       "      <td>135.0</td>\n",
       "      <td>104.0</td>\n",
       "      <td>NYK</td>\n",
       "      <td>114</td>\n",
       "      <td>0</td>\n",
       "      <td>2022</td>\n",
       "      <td>2022-04-08</td>\n",
       "      <td>False</td>\n",
       "      <td>False</td>\n",
       "    </tr>\n",
       "    <tr>\n",
       "      <th>17558</th>\n",
       "      <td>240.0</td>\n",
       "      <td>42.0</td>\n",
       "      <td>94.0</td>\n",
       "      <td>0.447</td>\n",
       "      <td>8.0</td>\n",
       "      <td>23.0</td>\n",
       "      <td>0.348</td>\n",
       "      <td>16.0</td>\n",
       "      <td>26.0</td>\n",
       "      <td>0.615</td>\n",
       "      <td>...</td>\n",
       "      <td>37.3</td>\n",
       "      <td>161.0</td>\n",
       "      <td>118.0</td>\n",
       "      <td>CHO</td>\n",
       "      <td>124</td>\n",
       "      <td>1</td>\n",
       "      <td>2022</td>\n",
       "      <td>2022-04-10</td>\n",
       "      <td>False</td>\n",
       "      <td>NaN</td>\n",
       "    </tr>\n",
       "  </tbody>\n",
       "</table>\n",
       "<p>580 rows × 148 columns</p>\n",
       "</div>"
      ],
      "text/plain": [
       "          mp    fg    fga    fg%    3p   3pa    3p%    ft   fta    ft%  ...  \\\n",
       "11     240.0  33.0   84.0  0.393   7.0  28.0  0.250  15.0  25.0  0.600  ...   \n",
       "63     240.0  35.0   68.0  0.515  12.0  21.0  0.571  36.0  44.0  0.818  ...   \n",
       "69     240.0  38.0   90.0  0.422   6.0  22.0  0.273  28.0  33.0  0.848  ...   \n",
       "124    240.0  42.0   87.0  0.483   8.0  23.0  0.348  10.0  14.0  0.714  ...   \n",
       "161    240.0  36.0   88.0  0.409   8.0  25.0  0.320  18.0  23.0  0.783  ...   \n",
       "...      ...   ...    ...    ...   ...   ...    ...   ...   ...    ...  ...   \n",
       "17471  240.0  38.0   82.0  0.463   8.0  21.0  0.381  18.0  20.0  0.900  ...   \n",
       "17483  240.0  56.0  101.0  0.554  13.0  30.0  0.433   7.0  14.0  0.500  ...   \n",
       "17510  240.0  42.0   86.0  0.488  10.0  35.0  0.286   9.0  11.0  0.818  ...   \n",
       "17538  240.0  35.0   69.0  0.507   9.0  28.0  0.321  13.0  17.0  0.765  ...   \n",
       "17558  240.0  42.0   94.0  0.447   8.0  23.0  0.348  16.0  26.0  0.615  ...   \n",
       "\n",
       "       usg%_max_opp  ortg_max_opp  drtg_max_opp  team_opp  total_opp  \\\n",
       "11             25.2         134.0          98.0       ORL         87   \n",
       "63             32.4         138.0         122.0       MIL        113   \n",
       "69             28.7         153.0         108.0       NYK        117   \n",
       "124            30.0         160.0         109.0       SAS         99   \n",
       "161            41.6         146.0         103.0       BOS        118   \n",
       "...             ...           ...           ...       ...        ...   \n",
       "17471          34.4         245.0         116.0       BOS        144   \n",
       "17483          32.8         168.0         132.0       MIN        114   \n",
       "17510          60.2         159.0         114.0       ATL        118   \n",
       "17538          35.5         135.0         104.0       NYK        114   \n",
       "17558          37.3         161.0         118.0       CHO        124   \n",
       "\n",
       "       home_opp  season        date    won  target  \n",
       "11            1    2016  2015-10-28   True    True  \n",
       "63            1    2016  2015-10-30   True   False  \n",
       "69            0    2016  2015-10-31  False    True  \n",
       "124           0    2016  2015-11-04   True   False  \n",
       "161           1    2016  2015-11-06  False   False  \n",
       "...         ...     ...         ...    ...     ...  \n",
       "17471         1    2022  2022-04-03  False    True  \n",
       "17483         1    2022  2022-04-05   True   False  \n",
       "17510         1    2022  2022-04-06  False   False  \n",
       "17538         0    2022  2022-04-08  False   False  \n",
       "17558         1    2022  2022-04-10  False     NaN  \n",
       "\n",
       "[580 rows x 148 columns]"
      ]
     },
     "execution_count": 88,
     "metadata": {},
     "output_type": "execute_result"
    }
   ],
   "source": [
    "df[df[\"team\"] == \"WAS\"]"
   ]
  },
  {
   "cell_type": "code",
   "execution_count": 89,
   "id": "2a2f8ace-320e-4257-8421-46f92d1baf1e",
   "metadata": {
    "tags": []
   },
   "outputs": [
    {
     "data": {
      "text/plain": [
       "0        NOP\n",
       "1        CLE\n",
       "2        CHI\n",
       "3        GSW\n",
       "4        ATL\n",
       "        ... \n",
       "17767    BOS\n",
       "17768    GSW\n",
       "17769    BOS\n",
       "17770    BOS\n",
       "17771    GSW\n",
       "Name: team, Length: 17772, dtype: object"
      ]
     },
     "execution_count": 89,
     "metadata": {},
     "output_type": "execute_result"
    }
   ],
   "source": [
    "df[\"team\"]"
   ]
  },
  {
   "cell_type": "code",
   "execution_count": 90,
   "id": "65e38cbf-542d-4554-809f-3b5cccf0d620",
   "metadata": {
    "tags": []
   },
   "outputs": [
    {
     "name": "stderr",
     "output_type": "stream",
     "text": [
      "/tmp/ipykernel_568649/1618397414.py:1: FutureWarning: ChainedAssignmentError: behaviour will change in pandas 3.0!\n",
      "You are setting values through chained assignment. Currently this works in certain cases, but when using Copy-on-Write (which will become the default behaviour in pandas 3.0) this will never work to update the original DataFrame or Series, because the intermediate object on which we are setting values will behave as a copy.\n",
      "A typical example is when you are setting values in a column of a DataFrame, like:\n",
      "\n",
      "df[\"col\"][row_indexer] = value\n",
      "\n",
      "Use `df.loc[row_indexer, \"col\"] = values` instead, to perform the assignment in a single step and ensure this keeps updating the original `df`.\n",
      "\n",
      "See the caveats in the documentation: https://pandas.pydata.org/pandas-docs/stable/user_guide/indexing.html#returning-a-view-versus-a-copy\n",
      "\n",
      "  df[\"target\"][pd.isnull(df[\"target\"])] = 2\n",
      "/tmp/ipykernel_568649/1618397414.py:1: SettingWithCopyWarning: \n",
      "A value is trying to be set on a copy of a slice from a DataFrame\n",
      "\n",
      "See the caveats in the documentation: https://pandas.pydata.org/pandas-docs/stable/user_guide/indexing.html#returning-a-view-versus-a-copy\n",
      "  df[\"target\"][pd.isnull(df[\"target\"])] = 2\n"
     ]
    }
   ],
   "source": [
    "df[\"target\"][pd.isnull(df[\"target\"])] = 2"
   ]
  },
  {
   "cell_type": "code",
   "execution_count": 91,
   "id": "c50ad953-4739-4d37-911e-dfb8e1c3f39d",
   "metadata": {
    "tags": []
   },
   "outputs": [],
   "source": [
    "df[\"target\"] = df[\"target\"].astype(int, errors=\"ignore\")"
   ]
  },
  {
   "cell_type": "code",
   "execution_count": 92,
   "id": "5ea1e79f-daf6-4def-a398-7cd50f7ef020",
   "metadata": {
    "tags": []
   },
   "outputs": [],
   "source": [
    "nulls = pd.isnull(df)"
   ]
  },
  {
   "cell_type": "code",
   "execution_count": 93,
   "id": "367495bb-18c7-4917-9d9e-e9b91051554b",
   "metadata": {
    "tags": []
   },
   "outputs": [],
   "source": [
    "nulls = nulls.sum()"
   ]
  },
  {
   "cell_type": "code",
   "execution_count": 94,
   "id": "9651bf09-eae0-4a9b-9dd9-cff677597d6c",
   "metadata": {
    "tags": []
   },
   "outputs": [
    {
     "data": {
      "text/plain": [
       "mp          0\n",
       "fg          0\n",
       "fga         0\n",
       "fg%         0\n",
       "3p          0\n",
       "           ..\n",
       "home_opp    0\n",
       "season      0\n",
       "date        0\n",
       "won         0\n",
       "target      0\n",
       "Length: 148, dtype: int64"
      ]
     },
     "execution_count": 94,
     "metadata": {},
     "output_type": "execute_result"
    }
   ],
   "source": [
    "nulls"
   ]
  },
  {
   "cell_type": "code",
   "execution_count": 95,
   "id": "d8dfbe4e-7dd0-4e78-a7bf-42e51522d3ea",
   "metadata": {
    "tags": []
   },
   "outputs": [],
   "source": [
    "nulls = nulls[nulls > 0]"
   ]
  },
  {
   "cell_type": "code",
   "execution_count": 96,
   "id": "f119287e-782d-4a09-8503-d5bad036bb18",
   "metadata": {
    "tags": []
   },
   "outputs": [],
   "source": [
    "valid_columns = df.columns[~df.columns.isin(nulls.index)]"
   ]
  },
  {
   "cell_type": "code",
   "execution_count": 97,
   "id": "08f6e379-6db6-4122-b402-1199f65fe3b8",
   "metadata": {
    "tags": []
   },
   "outputs": [
    {
     "data": {
      "text/plain": [
       "Index(['mp', 'fg', 'fga', 'fg%', '3p', '3pa', '3p%', 'ft', 'fta', 'ft%',\n",
       "       ...\n",
       "       'usg%_max_opp', 'ortg_max_opp', 'drtg_max_opp', 'team_opp', 'total_opp',\n",
       "       'home_opp', 'season', 'date', 'won', 'target'],\n",
       "      dtype='object', length=142)"
      ]
     },
     "execution_count": 97,
     "metadata": {},
     "output_type": "execute_result"
    }
   ],
   "source": [
    "valid_columns"
   ]
  },
  {
   "cell_type": "code",
   "execution_count": 98,
   "id": "aa5dc5d3-c859-4021-8e76-a9454b5948c2",
   "metadata": {
    "tags": []
   },
   "outputs": [],
   "source": [
    "df = df[valid_columns].copy()"
   ]
  },
  {
   "cell_type": "markdown",
   "id": "bee890b7-99dc-4cd7-bcaa-a1c8a73a62a6",
   "metadata": {},
   "source": [
    "## First Run through with Ridge"
   ]
  },
  {
   "cell_type": "code",
   "execution_count": 104,
   "id": "2c8b6468-ac43-45db-bb67-7107671027b5",
   "metadata": {
    "tags": []
   },
   "outputs": [],
   "source": [
    "from sklearn.model_selection import TimeSeriesSplit\n",
    "from sklearn.feature_selection import SequentialFeatureSelector\n",
    "from sklearn.linear_model import RidgeClassifier\n",
    "from sklearn.ensemble import RandomForestClassifier\n",
    "\n",
    "\n",
    "clf = RandomForestClassifier(max_depth=2, random_state=0)\n",
    "split = TimeSeriesSplit(n_splits = 3)\n",
    "sfs = SequentialFeatureSelector(clf, n_features_to_select = 30, direction = \"forward\", cv=split)"
   ]
  },
  {
   "cell_type": "code",
   "execution_count": 105,
   "id": "5da38503-1433-40ea-b0c7-f47e5c6613d8",
   "metadata": {
    "tags": []
   },
   "outputs": [],
   "source": [
    "removed_columns = [\"season\", \"date\", \"won\", \"target\", \"team\", \"team_opp\"]\n"
   ]
  },
  {
   "cell_type": "code",
   "execution_count": 106,
   "id": "aee29af2-32b1-4e2f-a307-5d42dc6a3873",
   "metadata": {
    "tags": []
   },
   "outputs": [],
   "source": [
    "selected_columns = df.columns[~df.columns.isin(removed_columns)]"
   ]
  },
  {
   "cell_type": "code",
   "execution_count": 107,
   "id": "95d4e205-c494-453c-8c55-6e9c36a58191",
   "metadata": {
    "tags": []
   },
   "outputs": [],
   "source": [
    "from sklearn.preprocessing import MinMaxScaler\n",
    "\n",
    "scaler = MinMaxScaler()\n",
    "df[selected_columns] = scaler.fit_transform(df[selected_columns])"
   ]
  },
  {
   "cell_type": "code",
   "execution_count": null,
   "id": "8149f199-a97d-4e40-852a-57cccfde86da",
   "metadata": {
    "tags": []
   },
   "outputs": [],
   "source": [
    "sfs.fit(df[selected_columns], df[\"target\"])"
   ]
  },
  {
   "cell_type": "code",
   "execution_count": null,
   "id": "7f795d82-d1b3-4708-bfdf-9f36d02bb1aa",
   "metadata": {
    "tags": []
   },
   "outputs": [],
   "source": [
    "predictors = list(selected_columns[sfs.get_support()])"
   ]
  },
  {
   "cell_type": "code",
   "execution_count": null,
   "id": "6041a995-bea9-4c93-8bbd-1698aaf52ffd",
   "metadata": {
    "tags": []
   },
   "outputs": [],
   "source": [
    "def backtest(data, model, predictors, start = 2, step = 1):\n",
    "    all_predictions = []\n",
    "    seasons = sorted(data[\"season\"].unique())\n",
    "    for i in range(start, len(seasons), step):\n",
    "        season = seasons[i]\n",
    "        train = data[data[\"season\"]<season]\n",
    "        test = data[data[\"season\"] == season]\n",
    "        model.fit(train[predictors], train[\"target\"])\n",
    "        preds = model.predict(test[predictors])\n",
    "        preds = pd.Series(preds, index = test.index)\n",
    "        combined= pd.concat([test[\"target\"], preds], axis = 1)\n",
    "        combined.columns = [\"actual\", \"prediction\"]\n",
    "        all_predictions.append(combined)\n",
    "    return pd.concat(all_predictions)"
   ]
  },
  {
   "cell_type": "code",
   "execution_count": null,
   "id": "6ed9a712-1919-4b94-9f68-fddec211bf74",
   "metadata": {
    "tags": []
   },
   "outputs": [],
   "source": [
    "predictions = backtest(df, rr, predictors)"
   ]
  },
  {
   "cell_type": "code",
   "execution_count": null,
   "id": "2e9913e0-2678-46d7-82cd-d24a2fad46ff",
   "metadata": {
    "tags": []
   },
   "outputs": [],
   "source": [
    "predictions"
   ]
  },
  {
   "cell_type": "code",
   "execution_count": null,
   "id": "6bc18733-82e3-43e2-8b03-49de0bb1c979",
   "metadata": {
    "tags": []
   },
   "outputs": [],
   "source": [
    "from sklearn.metrics import accuracy_score\n",
    "\n",
    "accuracy_score(predictions[\"actual\"], predictions[\"prediction\"])"
   ]
  },
  {
   "cell_type": "markdown",
   "id": "d7d58e5e-7255-4866-8a0d-3783629d51ac",
   "metadata": {},
   "source": [
    "## Create Baseline"
   ]
  },
  {
   "cell_type": "code",
   "execution_count": null,
   "id": "7d0b2be6-382f-4327-a2d8-97bf7976805a",
   "metadata": {
    "tags": []
   },
   "outputs": [],
   "source": [
    "df.groupby(\"home\").apply(lambda x: x[x[\"won\"] == 1].shape[0] / x.shape[0])"
   ]
  },
  {
   "cell_type": "code",
   "execution_count": null,
   "id": "9cdea656-6493-4db1-9ad3-5ba4d2c1cea9",
   "metadata": {
    "tags": []
   },
   "outputs": [],
   "source": [
    "df_rolling = df[list(selected_columns) + [\"won\", \"team\", \"season\"]]"
   ]
  },
  {
   "cell_type": "code",
   "execution_count": null,
   "id": "a5025ac8-a547-4c19-8edc-2f388e9e2dac",
   "metadata": {
    "tags": []
   },
   "outputs": [],
   "source": [
    "df_rolling"
   ]
  },
  {
   "cell_type": "code",
   "execution_count": null,
   "id": "0f3e8631-2355-4ca2-9e4e-0bbfff5af572",
   "metadata": {
    "tags": []
   },
   "outputs": [],
   "source": [
    "def find_team_averages(team):\n",
    "    numeric_columns = team.select_dtypes(include=[\"number\"])\n",
    "    rolling = numeric_columns.rolling(10).mean()\n",
    "    non_numeric_columns = team.select_dtypes(exclude=[\"number\"])\n",
    "    result = pd.concat([non_numeric_columns, rolling], axis=1)    \n",
    "    return result\n",
    "\n",
    "df_rolling = df_rolling.groupby([\"team\", \"season\"], group_keys=False).apply(find_team_averages)\n"
   ]
  },
  {
   "cell_type": "code",
   "execution_count": null,
   "id": "8d471f15-ce42-4745-8de4-e6e4c6e61fdf",
   "metadata": {
    "tags": []
   },
   "outputs": [],
   "source": [
    "df_rolling"
   ]
  },
  {
   "cell_type": "code",
   "execution_count": null,
   "id": "eafbe0d6-fb01-49d3-9cf9-13ca17582fbd",
   "metadata": {
    "tags": []
   },
   "outputs": [],
   "source": [
    "rolling_cols = [f\"{col}_10\" for col in df_rolling.columns]\n",
    "df_rolling.columns = rolling_cols\n",
    "df = pd.concat([df, df_rolling], axis=1)"
   ]
  },
  {
   "cell_type": "code",
   "execution_count": null,
   "id": "cb2ace0b-cd16-4bc8-95d4-5841dadde543",
   "metadata": {},
   "outputs": [],
   "source": [
    "df = df.dropna()"
   ]
  },
  {
   "cell_type": "code",
   "execution_count": null,
   "id": "d1da86f1-c174-426d-a8c4-dee2a00ada6b",
   "metadata": {
    "tags": []
   },
   "outputs": [],
   "source": [
    "def shift_col(team, col_name):\n",
    "    next_col = team[col_name].shift(-1)\n",
    "    return next_col\n",
    "\n",
    "def add_col(df, col_name):\n",
    "    return df.groupby(\"team\", group_keys=False).apply(lambda x: shift_col(x, col_name))\n",
    "\n",
    "df[\"home_next\"] = add_col(df, \"home\")\n",
    "df[\"team_opp_next\"] = add_col(df, \"team_opp\")\n",
    "df[\"date_next\"] = add_col(df, \"date\")"
   ]
  },
  {
   "cell_type": "code",
   "execution_count": null,
   "id": "aea738c0-b306-4116-adf9-c1ec2e37eff9",
   "metadata": {
    "tags": []
   },
   "outputs": [],
   "source": [
    "df = df.copy()"
   ]
  },
  {
   "cell_type": "code",
   "execution_count": null,
   "id": "ed8d0f49-34d5-4e64-95f8-a35d54df04f5",
   "metadata": {
    "tags": []
   },
   "outputs": [],
   "source": [
    "import pandas as pd"
   ]
  },
  {
   "cell_type": "code",
   "execution_count": null,
   "id": "0e252a17-2f9d-4069-aa84-47b291f51092",
   "metadata": {
    "tags": []
   },
   "outputs": [],
   "source": [
    "full = df.merge(df[rolling_cols + \n",
    "                   [\"team_opp_next\", \"date_next\", \"team\"]], \n",
    "                left_on = [\"team\", \"date_next\"], \n",
    "                right_on = [\"team_opp_next\", \"date_next\"])"
   ]
  },
  {
   "cell_type": "code",
   "execution_count": null,
   "id": "a2dd9752-523c-44cc-ad5b-e1fd56b21554",
   "metadata": {
    "tags": []
   },
   "outputs": [],
   "source": [
    "full"
   ]
  },
  {
   "cell_type": "code",
   "execution_count": null,
   "id": "bf096892-cb88-412e-897f-31fc7a311ce2",
   "metadata": {
    "tags": []
   },
   "outputs": [],
   "source": [
    "full[[\"team_x\", \"team_opp_next_x\", \"team_y\", \"team_opp_next_y\", \"date_next\"]]"
   ]
  },
  {
   "cell_type": "code",
   "execution_count": null,
   "id": "86b10ab8-77b0-4c06-aff4-fe881a3a4a8d",
   "metadata": {
    "tags": []
   },
   "outputs": [],
   "source": [
    "removed_columns = list(full.columns[full.dtypes == \"object\"]) + removed_columns\n",
    "removed_columns"
   ]
  },
  {
   "cell_type": "code",
   "execution_count": null,
   "id": "b0f1de72-b3e6-4ec8-8d61-05313e0bb050",
   "metadata": {
    "tags": []
   },
   "outputs": [],
   "source": [
    "selected_columns = full.columns[~full.columns.isin(removed_columns)]\n",
    "sfs.fit(full[selected_columns], full[\"target\"])"
   ]
  },
  {
   "cell_type": "code",
   "execution_count": null,
   "id": "53a440fe-3866-446b-8159-fd4122cf26ff",
   "metadata": {
    "tags": []
   },
   "outputs": [],
   "source": [
    "predictors = list(selected_columns[sfs.get_support()])"
   ]
  },
  {
   "cell_type": "code",
   "execution_count": null,
   "id": "1def4211-ee2b-48d5-9691-dfa10d33469b",
   "metadata": {
    "tags": []
   },
   "outputs": [],
   "source": [
    "predictions = backtest(full, rr, predictors)"
   ]
  },
  {
   "cell_type": "code",
   "execution_count": null,
   "id": "02bae8f3-ae65-414d-a898-f538d9df8dd2",
   "metadata": {
    "tags": []
   },
   "outputs": [],
   "source": [
    "accuracy_score(predictions[\"actual\"], predictions[\"prediction\"])"
   ]
  },
  {
   "cell_type": "code",
   "execution_count": null,
   "id": "0a4862a1-c653-46e0-bb6b-6b3a5981aa4c",
   "metadata": {},
   "outputs": [],
   "source": []
  },
  {
   "cell_type": "code",
   "execution_count": null,
   "id": "2ff7c8d9-c50a-44df-878e-4958cefdf503",
   "metadata": {},
   "outputs": [],
   "source": []
  },
  {
   "cell_type": "code",
   "execution_count": null,
   "id": "860f1091-41b0-4874-b03b-67a0bf6b36aa",
   "metadata": {},
   "outputs": [],
   "source": []
  },
  {
   "cell_type": "code",
   "execution_count": null,
   "id": "0fefcd73-2549-4662-81e3-143238889ce3",
   "metadata": {},
   "outputs": [],
   "source": []
  }
 ],
 "metadata": {
  "kernelspec": {
   "display_name": "Python 3 (ipykernel)",
   "language": "python",
   "name": "python3"
  },
  "language_info": {
   "codemirror_mode": {
    "name": "ipython",
    "version": 3
   },
   "file_extension": ".py",
   "mimetype": "text/x-python",
   "name": "python",
   "nbconvert_exporter": "python",
   "pygments_lexer": "ipython3",
   "version": "3.11.5"
  }
 },
 "nbformat": 4,
 "nbformat_minor": 5
}
